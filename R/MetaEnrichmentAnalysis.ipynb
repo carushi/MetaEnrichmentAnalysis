{
 "cells": [
  {
   "cell_type": "markdown",
   "id": "c4761edb",
   "metadata": {},
   "source": [
    "# Meta Enrichment Analysis across multiple omics datasets\n",
    "\n",
    "## @carushi\n",
    "* Created on 2023.03.08\n"
   ]
  },
  {
   "cell_type": "code",
   "execution_count": null,
   "id": "d0209e0e",
   "metadata": {
    "tags": []
   },
   "outputs": [],
   "source": [
    "PROJECT_DIR <- \"~/project/GTP_RNA_seq/aws/\"\n",
    "SCRIPT_DIR <- \"~/rstudio/packages/MetaEnrichmentAnalysis/R\"\n",
    "file_list <- c(\"initiate.R\")\n",
    "for (file in file_list) {\n",
    "    source(file.path(SCRIPT_DIR, file))\n",
    "}\n",
    "load(file.path(SCRIPT_DIR, \"sysdata.rda\"))"
   ]
  },
  {
   "cell_type": "code",
   "execution_count": null,
   "id": "1a3de39d",
   "metadata": {},
   "outputs": [],
   "source": [
    "setwd(file.path(PROJECT_DIR, \"Liver_data/result/enrichment_230209/\"))"
   ]
  },
  {
   "cell_type": "code",
   "execution_count": null,
   "id": "c29096a7-fa31-4a43-811e-67ed783c2d03",
   "metadata": {
    "tags": []
   },
   "outputs": [],
   "source": [
    "source(file.path(SCRIPT_DIR, \"main.R\"))"
   ]
  },
  {
   "cell_type": "code",
   "execution_count": null,
   "id": "f28b9267-2380-4ab7-a477-2db49325bfba",
   "metadata": {
    "tags": []
   },
   "outputs": [],
   "source": [
    "source(file.path(SCRIPT_DIR, \"heatmap.R\"))\n",
    "compareLiver()"
   ]
  },
  {
   "cell_type": "code",
   "execution_count": null,
   "id": "5a22f57d-100a-4c3a-94a7-05a990eb04ea",
   "metadata": {},
   "outputs": [],
   "source": [
    "setwd(file.path(PROJECT_DIR, \"Link17_pMEF_RNA-seq/result/enrichment0227/\"))"
   ]
  },
  {
   "cell_type": "code",
   "execution_count": null,
   "id": "01defda5",
   "metadata": {
    "tags": []
   },
   "outputs": [],
   "source": [
    "source(file.path(SCRIPT_DIR, \"main.R\"))"
   ]
  },
  {
   "cell_type": "code",
   "execution_count": null,
   "id": "0c3b637c-8ac2-4670-90c2-e6f86a1b2ab6",
   "metadata": {},
   "outputs": [],
   "source": [
    "source(file.path(SCRIPT_DIR, \"heatmap.R\"))\n",
    "compareBlood()"
   ]
  },
  {
   "cell_type": "code",
   "execution_count": null,
   "id": "922fb99a-dece-44d0-9a26-a56d6ffc53ff",
   "metadata": {},
   "outputs": [],
   "source": [
    "setwd(file.path(PROJECT_DIR, \"Liver_data/result/MEF_link_230228/\"))"
   ]
  },
  {
   "cell_type": "code",
   "execution_count": null,
   "id": "c265b2a9-4fbc-4895-98b4-beb9d4facd56",
   "metadata": {
    "tags": []
   },
   "outputs": [],
   "source": [
    "source(file.path(SCRIPT_DIR, \"main.R\"))"
   ]
  },
  {
   "cell_type": "code",
   "execution_count": null,
   "id": "dd000f7b-8a51-41ee-b31d-ba756bdcf106",
   "metadata": {},
   "outputs": [],
   "source": [
    "source(file.path(SCRIPT_DIR, \"heatmap.R\"))\n",
    "compareMEF()"
   ]
  },
  {
   "cell_type": "code",
   "execution_count": null,
   "id": "fd5b4bcd-5b0d-44b6-820c-355b27884d79",
   "metadata": {},
   "outputs": [],
   "source": [
    "setwd(file.path(PROJECT_DIR, \"Guanosine_pMEF_RNA-seq/result/guanosine_enrichment0308/\"))"
   ]
  },
  {
   "cell_type": "code",
   "execution_count": null,
   "id": "0317fa3a-713f-4402-af9a-53d6afee78dd",
   "metadata": {
    "tags": []
   },
   "outputs": [],
   "source": [
    "source(file.path(SCRIPT_DIR, \"main.R\"))"
   ]
  },
  {
   "cell_type": "code",
   "execution_count": null,
   "id": "485ff359-c82a-47ec-8a2e-83c3913b2fee",
   "metadata": {},
   "outputs": [],
   "source": [
    "source(file.path(SCRIPT_DIR, \"heatmap.R\"))\n",
    "compareGuanosine()"
   ]
  },
  {
   "cell_type": "code",
   "execution_count": null,
   "id": "28bdf614",
   "metadata": {
    "tags": []
   },
   "outputs": [],
   "source": [
    "source(file.path(SCRIPT_DIR, \"heatmap.R\"))"
   ]
  },
  {
   "cell_type": "code",
   "execution_count": null,
   "id": "b938ff69-5fcd-4154-a2fe-8eaaf7055e2b",
   "metadata": {},
   "outputs": [],
   "source": [
    "setwd(file.path(PROJECT_DIR, \"Guanosine_pMEF_RNA-seq/result/guanosine_enrichment0308/full_set/\"))"
   ]
  },
  {
   "cell_type": "code",
   "execution_count": null,
   "id": "a1a5e1ea-f860-410f-977c-f46530185844",
   "metadata": {
    "tags": []
   },
   "outputs": [],
   "source": [
    "source(file.path(SCRIPT_DIR, \"main.R\"))"
   ]
  },
  {
   "cell_type": "code",
   "execution_count": null,
   "id": "af6ee97a-0c72-4453-bf14-fb562b2e68cd",
   "metadata": {},
   "outputs": [],
   "source": [
    "source(file.path(SCRIPT_DIR, \"heatmap.R\"))\n",
    "compareGuanosine()"
   ]
  },
  {
   "cell_type": "code",
   "execution_count": null,
   "id": "7c0c43d0-29f3-4db6-bbc8-119d5117b675",
   "metadata": {},
   "outputs": [],
   "source": [
    "setwd(file.path(PROJECT_DIR, \"Liver_data/result/MEF_MPA_230309/cage/\"))"
   ]
  },
  {
   "cell_type": "code",
   "execution_count": null,
   "id": "cf4dedfb-8a96-49ad-b486-cf348c3d3508",
   "metadata": {
    "tags": []
   },
   "outputs": [],
   "source": [
    "source(file.path(SCRIPT_DIR, \"main.R\"))"
   ]
  },
  {
   "cell_type": "code",
   "execution_count": null,
   "id": "ba2e55a9-e0f0-4aea-9990-6cc94dcf520b",
   "metadata": {},
   "outputs": [],
   "source": [
    "setwd(file.path(PROJECT_DIR, \"Liver_data/result/MEF_MPA_230309/rna/\"))"
   ]
  },
  {
   "cell_type": "code",
   "execution_count": null,
   "id": "bc77da69-8445-4d6f-8755-0cb836267673",
   "metadata": {},
   "outputs": [],
   "source": [
    "source(file.path(SCRIPT_DIR, \"main.R\"))"
   ]
  },
  {
   "cell_type": "code",
   "execution_count": null,
   "id": "cd2e80f6-0e84-4315-a453-dbaa6aa11081",
   "metadata": {},
   "outputs": [],
   "source": []
  }
 ],
 "metadata": {
  "kernelspec": {
   "display_name": "R",
   "language": "R",
   "name": "ir"
  },
  "language_info": {
   "codemirror_mode": "r",
   "file_extension": ".r",
   "mimetype": "text/x-r-source",
   "name": "R",
   "pygments_lexer": "r",
   "version": "4.1.3"
  }
 },
 "nbformat": 4,
 "nbformat_minor": 5
}
